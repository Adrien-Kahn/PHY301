{
 "cells": [
  {
   "cell_type": "code",
   "execution_count": null,
   "id": "5dedb5b2",
   "metadata": {},
   "outputs": [],
   "source": [
    "import numpy as np\n",
    "import matplotlib.pyplot as plt"
   ]
  },
  {
   "cell_type": "markdown",
   "id": "636bf255",
   "metadata": {},
   "source": [
    "# Revisiting the 1D chain with a computer\n",
    "\n",
    "$\\newcommand{\\ket}[1]{\\left|{#1}\\right\\rangle}$\n",
    "$\\newcommand{\\bra}[1]{\\left\\langle{#1}\\right|}$\n",
    "$\\newcommand{\\braket}[1]{\\left\\langle{#1}\\right\\rangle}$\n",
    "\n",
    "In this exercise session, we will revisit the [exercises of week 3](https://moodle.polytechnique.fr/pluginfile.php/614753/course/section/57413/exercise_03.pdf) as a basic example of how we can use numerics in quantum physics.\n",
    "\n",
    "We briefly recall the setting. We consider a Hilbert space spanned the orthonormal basis $\\left\\{ \\ket n \\right\\}_{n \\in \\{ 1, \\ldots, N-1\\}}$. We define the right translation operator $\\hat T$ by $\\hat T \\ket n = \\ket{n+1}$ with periodic boundary conditions, meaning that $\\hat T \\ket {N-1} = \\ket N = \\ket 0$. We consider the Hamiltonian:\n",
    "\n",
    "$$ \\hat H = E_0 - J \\sum_{n=0}^{N-1} \\left( \\ket{n} \\bra{n+1} + \\ket{n+1} \\bra{n} \\right) $$\n",
    "\n",
    "where again, periodic boundary conditions imply that $\\ket N = \\ket 0$.\n",
    "\n",
    "We recall that matrix multiplication is denoted with `@`. Multiplication with `*` is element-wise multiplication.\n",
    "\n",
    "You can easily obtain the documentation of a function by simply running `function_name?`."
   ]
  },
  {
   "cell_type": "markdown",
   "id": "a72aa4e2",
   "metadata": {},
   "source": [
    "#### Question 1\n",
    "Construct the matrix representing $\\hat T$ and $\\hat H$. Check that they commute.  *Hint: You can construct the identity matrix with `np.eye`. You can use the argument `k` to offset the position of the diagonal.*"
   ]
  },
  {
   "cell_type": "code",
   "execution_count": null,
   "id": "bea62f3d",
   "metadata": {},
   "outputs": [],
   "source": [
    "# The number of sites\n",
    "n_sites = 100\n",
    "\n",
    "# The constant E_O\n",
    "E_0 = 1\n",
    "\n",
    "# The constant J\n",
    "J = 2\n",
    "\n",
    "# Define the translation operator\n",
    "translation_operator = np.eye(n_sites, k=-1)\n",
    "translation_operator[0, -1] = 1\n",
    "\n",
    "# Define the Hamiltonian\n",
    "hamiltonian = E_0 * np.eye(n_sites) - J * (translation_operator + translation_operator.T)\n",
    "\n",
    "print(\"T:\\n\", translation_operator)\n",
    "print(\"\\nH:\\n\", hamiltonian)\n",
    "print(\"\\nNorm of [H,T]: \", np.linalg.norm(hamiltonian @ translation_operator - translation_operator @ hamiltonian))"
   ]
  },
  {
   "cell_type": "markdown",
   "id": "5dd701a1",
   "metadata": {},
   "source": [
    "#### Question 2\n",
    "Use `np.linalg.eig` to obtain the eigenvalues and eigenvectors of $\\hat T$. The eigenvectors are automatically normalized."
   ]
  },
  {
   "cell_type": "code",
   "execution_count": null,
   "id": "c5bddfd2",
   "metadata": {},
   "outputs": [],
   "source": [
    "translation_eigenvalues, translation_eigenvectors = np.linalg.eig(translation_operator)"
   ]
  },
  {
   "cell_type": "markdown",
   "id": "cdbc32ef",
   "metadata": {},
   "source": [
    "We can plot the eigenvalues in the complex plane to check that they are indeed the $N$th roots of the identity."
   ]
  },
  {
   "cell_type": "code",
   "execution_count": null,
   "id": "09123336",
   "metadata": {},
   "outputs": [],
   "source": [
    "plt.scatter(np.real(translation_eigenvalues), np.imag(translation_eigenvalues), label=r'eigenvalues of $\\hat T$')\n",
    "plt.plot(np.real(np.exp(np.linspace(0, 2*np.pi, 100)*1.j)), np.imag(np.exp(np.linspace(0, 2*np.pi, 100)*1.j)), c='k', ls='--', alpha=0.5)\n",
    "plt.legend()\n",
    "plt.title(r\"Eigenvalues of $\\hat T$ in the complex plane.\")\n",
    "plt.axis('equal')\n",
    "print()"
   ]
  },
  {
   "cell_type": "markdown",
   "id": "d6dc91d2",
   "metadata": {},
   "source": [
    "#### Question 3\n",
    "The generalized spectral theorem tells us that unitary operators like $\\hat T$ can always be diagonalized in an orthonormal basis. Check analytically that if $\\ket{\\lambda_k}$ and $\\ket{\\lambda_{k'}}$ are eigenvectors for different eigenvalues of a unitary operator $\\hat U$, then they are orthogonal.\n",
    "\n",
    ">We have:\n",
    ">\n",
    ">$$\\braket{ \\lambda_k | \\lambda_{k'}} = \\langle \\lambda_k | \\hat U^\\dagger \\hat U | \\lambda_{k'} \\rangle = \\lambda_k^* \\lambda_{k'} \\braket{ \\lambda_k | \\lambda_{k'}}$$\n",
    ">\n",
    "> Since $\\hat U$ is unitary, its eigenvalues are on the unit circle and $\\lambda_k^* = \\lambda_k^{-1}$. Therefore, we obtain:\n",
    ">\n",
    ">$$ \\left( 1 - \\frac{\\lambda_{k'}}{\\lambda_k} \\right) \\braket{ \\lambda_k | \\lambda_{k'}} = 0 $$\n",
    ">\n",
    "> such that if $\\lambda_{k'} \\neq \\lambda_k$, we must have $\\ket{\\lambda_k}$ and $\\ket{\\lambda_{k'}}$ orthogonal."
   ]
  },
  {
   "cell_type": "markdown",
   "id": "3edb259a",
   "metadata": {},
   "source": [
    "#### Question 4\n",
    "Check numerically that the eigenvectors of $\\hat T$ are orthogonal. Are the eigenvectors perfectly orthogonal? Why?"
   ]
  },
  {
   "cell_type": "code",
   "execution_count": null,
   "id": "557b2418",
   "metadata": {},
   "outputs": [],
   "source": [
    "print(\"Norm of T^\\dag T - 1:\\t{:.4}\".format(np.linalg.norm(np.conj(translation_eigenvectors.T) @ translation_eigenvectors - np.eye(n_sites))))"
   ]
  },
  {
   "cell_type": "markdown",
   "id": "01880c23",
   "metadata": {},
   "source": [
    "> We do not get exactly 0 because of **numerical errors**. Furthermore, even if we had infinite precision, the algorithm for diagonalization is an iterative algorithm that converges to the correct eigendecomposition, but has a small error for a finite number of steps."
   ]
  },
  {
   "cell_type": "markdown",
   "id": "34ceaeb0",
   "metadata": {},
   "source": [
    "#### Question 5\n",
    "Obtain the Hamiltonian in the eigenbasis of $\\hat T$. Compare the eigenvalues you obtained in this way with the eigenvalues obtained by directly diagonalizing $\\hat H$. *Hint: You can use `np.diagonal`. For Hermitian matrices, you can use `np.linalg.eigh` instead of `np.linalg.eig`.*"
   ]
  },
  {
   "cell_type": "code",
   "execution_count": null,
   "id": "2ceeaec6",
   "metadata": {},
   "outputs": [],
   "source": [
    "# Eigenenergies through symmetry-adapted basis\n",
    "hamiltonian_sym_basis = np.linalg.inv(translation_eigenvectors) @ hamiltonian @ translation_eigenvectors\n",
    "eigenenergies_1 = np.diagonal(hamiltonian_sym_basis)\n",
    "\n",
    "# Eigenenergies through direct diagonalization\n",
    "eigenenergies_2, _ = np.linalg.eigh(hamiltonian)\n",
    "\n",
    "np.linalg.norm(np.sort(np.real(eigenenergies_1)) - eigenenergies_2)"
   ]
  },
  {
   "cell_type": "markdown",
   "id": "3324ca4f",
   "metadata": {},
   "source": [
    "#### Question 6\n",
    "Plot the eigenenergies of $\\hat H$. Do you recover the same plot as in question 6 of the exercise sheet? Why?"
   ]
  },
  {
   "cell_type": "code",
   "execution_count": null,
   "id": "d664676e",
   "metadata": {},
   "outputs": [],
   "source": [
    "plt.plot(np.real(eigenenergies_1))\n",
    "plt.plot(eigenenergies_2)"
   ]
  },
  {
   "cell_type": "markdown",
   "id": "207015be",
   "metadata": {},
   "source": [
    "> We can recover the same plot as in question 6 by using the same ordering of the eigenvalues. In question 6, we had ordered the eigenvalues using the phase of the corresponding eigenvalue of $\\hat T$."
   ]
  },
  {
   "cell_type": "markdown",
   "id": "421c8871",
   "metadata": {},
   "source": [
    "We can obtain the same plot using the following code:"
   ]
  },
  {
   "cell_type": "code",
   "execution_count": null,
   "id": "2e11466b",
   "metadata": {},
   "outputs": [],
   "source": [
    "# Get the phase of the eigenvalues of T\n",
    "standard_phase = np.imag(np.log(translation_eigenvalues))\n",
    "\n",
    "# Put the phase in the interval [0, 2pi]\n",
    "positive_phase = np.where(standard_phase<0, standard_phase+2*np.pi, standard_phase)\n",
    "\n",
    "# Order the eigenvalues of H with the phase of the eigenvalues of T\n",
    "ordering = np.argsort(positive_phase)\n",
    "plt.plot(np.linspace(0, 1, n_sites), np.real(eigenenergies_1[ordering]))\n",
    "\n",
    "plt.xlabel(r\"$\\frac{k}{N}$\")\n",
    "plt.ylabel(r\"$E(\\frac{k}{N})$\")\n",
    "print()"
   ]
  },
  {
   "cell_type": "markdown",
   "id": "1de607d1",
   "metadata": {},
   "source": [
    "#### Question 7\n",
    "Now consider the same Hamiltonian with open boundary conditions:\n",
    "\n",
    "$$ \\hat H = E_0 - J \\sum_{n=0}^{N-2} \\left( \\ket{n} \\bra{n+1} + \\ket{n+1} \\bra{n} \\right) $$\n",
    "\n",
    "In this Hamiltonian, there is no more hopping term between $\\ket 0$ and $\\ket{N-1}$. Construct the matrix for this Hamiltonian. Check numerically if it commutes with $\\hat T$."
   ]
  },
  {
   "cell_type": "code",
   "execution_count": null,
   "id": "69d84574",
   "metadata": {},
   "outputs": [],
   "source": [
    "# Define the Hamiltonian\n",
    "hamiltonian_obc = E_0 * np.eye(n_sites) - J * (np.eye(n_sites, k=-1) + np.eye(n_sites, k=1))\n",
    "\n",
    "print(\"\\nH:\\n\", hamiltonian_obc)\n",
    "print(\"\\nNorm of [H,T]: \", np.linalg.norm(hamiltonian_obc @ translation_operator - translation_operator @ hamiltonian_obc))"
   ]
  },
  {
   "cell_type": "markdown",
   "id": "af27bc08",
   "metadata": {},
   "source": [
    "#### Question 8\n",
    "Can we apply the same procedure as in the exercise sheet to obtain the eigenenergies? Obtain the eigenenergies numerically and compare them to the eigenenergies in the periodic boundary condition case."
   ]
  },
  {
   "cell_type": "code",
   "execution_count": null,
   "id": "6f4b7704",
   "metadata": {},
   "outputs": [],
   "source": [
    "eigenenergies_obc, _ = np.linalg.eigh(hamiltonian_obc)\n",
    "\n",
    "plt.plot(eigenenergies_obc)\n",
    "plt.plot(eigenenergies_2)"
   ]
  }
 ],
 "metadata": {
  "kernelspec": {
   "display_name": "Python 3 (ipykernel)",
   "language": "python",
   "name": "python3"
  },
  "language_info": {
   "codemirror_mode": {
    "name": "ipython",
    "version": 3
   },
   "file_extension": ".py",
   "mimetype": "text/x-python",
   "name": "python",
   "nbconvert_exporter": "python",
   "pygments_lexer": "ipython3",
   "version": "3.10.9"
  }
 },
 "nbformat": 4,
 "nbformat_minor": 5
}
