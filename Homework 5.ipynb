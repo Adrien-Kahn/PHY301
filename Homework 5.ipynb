{
 "cells": [
  {
   "cell_type": "code",
   "execution_count": 1,
   "id": "73d44bec-96e8-4341-8665-ffe7192f66a6",
   "metadata": {},
   "outputs": [
    {
     "name": "stderr",
     "output_type": "stream",
     "text": [
      "[mba-10836208:54958] shmem: mmap: an error occurred while determining whether or not /var/folders/fp/xn0vr_w57pq4d84k8f4mk0480000gp/T//ompi.mba-10836208.502/jf.0/2419064832/sm_segment.mba-10836208.502.90300000.0 could be created.\n",
      "/opt/homebrew/Caskroom/mambaforge/base/envs/pythonenv/lib/python3.11/site-packages/mpi4jax/_src/jax_compat.py:39: UserWarning: \n",
      "The latest supported JAX version with this release of mpi4jax is 0.4.17, but you have 0.4.30. If you encounter problems consider downgrading JAX, for example via:\n",
      "\n",
      "    $ pip install jax[cpu]==0.4.17\n",
      "\n",
      "Or try upgrading mpi4jax via\n",
      "\n",
      "    $ pip install -U mpi4jax\n",
      "\n",
      "You can set the environment variable `MPI4JAX_NO_WARN_JAX_VERSION=1` to silence this warning.\n",
      "  warnings.warn(\n"
     ]
    }
   ],
   "source": [
    "import numpy as np\n",
    "import netket as nk"
   ]
  },
  {
   "cell_type": "code",
   "execution_count": 12,
   "id": "449253d9-6220-4bf2-9b09-09ce0349da4c",
   "metadata": {},
   "outputs": [],
   "source": [
    "def tensor_product(l):\n",
    "    res = 1\n",
    "    for a in l:\n",
    "        res = np.kron(res, a)\n",
    "    return res"
   ]
  },
  {
   "cell_type": "code",
   "execution_count": 31,
   "id": "a6ed84d5-9eca-4e02-adc9-da4abd105519",
   "metadata": {},
   "outputs": [
    {
     "data": {
      "text/plain": [
       "-10.251661790966025"
      ]
     },
     "execution_count": 31,
     "metadata": {},
     "output_type": "execute_result"
    }
   ],
   "source": [
    "n_qubits = 8\n",
    "h = 1\n",
    "J = 1\n",
    "\n",
    "sigmax = np.array([[0,1],[1,0]])\n",
    "sigmaz = np.array([[1,0],[0,-1]])\n",
    "\n",
    "hamiltonian = 0\n",
    "\n",
    "for k in range(n_qubits):\n",
    "    hamiltonian += -h * tensor_product([np.eye(2)]*k + [sigmax] + [np.eye(2)]*(n_qubits-k-1))\n",
    "\n",
    "for k in range(n_qubits-1):\n",
    "    hamiltonian += J * tensor_product([np.eye(2)]*k + [sigmaz, sigmaz] + [np.eye(2)]*(n_qubits-k-2))\n",
    "\n",
    "hamiltonian += J * tensor_product([sigmaz] + [np.eye(2)]*(n_qubits-2) + [sigmaz])\n",
    "\n",
    "np.linalg.eigh(hamiltonian)[0][0]"
   ]
  },
  {
   "cell_type": "markdown",
   "id": "50fcdf3d-6d3a-4c0c-a3ff-1a36b77c301a",
   "metadata": {},
   "source": [
    "$$-h\\sum_i \\sigma_i^{(x)} +J\\sum_{\\langle i,j\\rangle} \\sigma_i^{(z)}\\sigma_j^{(z)}$$"
   ]
  },
  {
   "cell_type": "code",
   "execution_count": 32,
   "id": "598bcf40-1866-4e1a-a1a4-af797529b977",
   "metadata": {},
   "outputs": [
    {
     "data": {
      "text/plain": [
       "array([-10.25166179])"
      ]
     },
     "execution_count": 32,
     "metadata": {},
     "output_type": "execute_result"
    }
   ],
   "source": [
    "hilbert_space = nk.hilbert.Qubit(n_qubits)\n",
    "graph = nk.graph.Chain(n_qubits, pbc=True)\n",
    "hamiltonian = nk.operator.IsingJax(hilbert_space, graph, h, J)\n",
    "nk.exact.lanczos_ed(hamiltonian)"
   ]
  }
 ],
 "metadata": {
  "kernelspec": {
   "display_name": "Python 3 (ipykernel)",
   "language": "python",
   "name": "python3"
  },
  "language_info": {
   "codemirror_mode": {
    "name": "ipython",
    "version": 3
   },
   "file_extension": ".py",
   "mimetype": "text/x-python",
   "name": "python",
   "nbconvert_exporter": "python",
   "pygments_lexer": "ipython3",
   "version": "3.11.6"
  }
 },
 "nbformat": 4,
 "nbformat_minor": 5
}
