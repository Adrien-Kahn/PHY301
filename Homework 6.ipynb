{
 "cells": [
  {
   "cell_type": "code",
   "execution_count": 1,
   "id": "853b94b2-de87-4971-b638-1f9816c1339b",
   "metadata": {},
   "outputs": [
    {
     "name": "stdout",
     "output_type": "stream",
     "text": [
      "-12.381489999654743\n"
     ]
    }
   ],
   "source": [
    "import numpy as np\n",
    "\n",
    "def tensor_product(matrix_list):\n",
    "    \"\"\"Construct the Kronecker product of a list of matrices\n",
    "    \"\"\"\n",
    "    current_matrix = 1\n",
    "    for matrix in matrix_list:\n",
    "        current_matrix = np.kron(current_matrix, matrix)\n",
    "    return current_matrix\n",
    "\n",
    "n_qubits = 10\n",
    "h = 1\n",
    "J = 1\n",
    "\n",
    "sigmax = np.array([[0,1],[1,0]])\n",
    "sigmaz = np.array([[1,0],[0,-1]])\n",
    "\n",
    "hamiltonian = 0\n",
    "\n",
    "for k in range(n_qubits):\n",
    "    hamiltonian += -h * tensor_product([np.eye(2)]*k + [sigmax] + [np.eye(2)]*(n_qubits-k-1))\n",
    "\n",
    "for k in range(n_qubits-1):\n",
    "    hamiltonian += J * tensor_product([np.eye(2)]*k + [sigmaz, sigmaz] + [np.eye(2)]*(n_qubits-k-2))\n",
    "\n",
    "print(np.linalg.eigh(hamiltonian)[0][0])"
   ]
  }
 ],
 "metadata": {
  "kernelspec": {
   "display_name": "Python 3 (ipykernel)",
   "language": "python",
   "name": "python3"
  },
  "language_info": {
   "codemirror_mode": {
    "name": "ipython",
    "version": 3
   },
   "file_extension": ".py",
   "mimetype": "text/x-python",
   "name": "python",
   "nbconvert_exporter": "python",
   "pygments_lexer": "ipython3",
   "version": "3.11.6"
  }
 },
 "nbformat": 4,
 "nbformat_minor": 5
}
